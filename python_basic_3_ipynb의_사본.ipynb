{
  "nbformat": 4,
  "nbformat_minor": 0,
  "metadata": {
    "colab": {
      "provenance": [],
      "authorship_tag": "ABX9TyPVE5JRyxRBiMvjv0JoK955",
      "include_colab_link": true
    },
    "kernelspec": {
      "name": "python3",
      "display_name": "Python 3"
    },
    "language_info": {
      "name": "python"
    }
  },
  "cells": [
    {
      "cell_type": "markdown",
      "metadata": {
        "id": "view-in-github",
        "colab_type": "text"
      },
      "source": [
        "<a href=\"https://colab.research.google.com/github/wupyo1/Python_1/blob/main/python_basic_3_ipynb%EC%9D%98_%EC%82%AC%EB%B3%B8.ipynb\" target=\"_parent\"><img src=\"https://colab.research.google.com/assets/colab-badge.svg\" alt=\"Open In Colab\"/></a>"
      ]
    },
    {
      "cell_type": "code",
      "source": [
        "print(\"Hello World\") #ctrl+enter 치면 현재 셀 실행, #하고 쓰면 주석 처리됨\n",
        "# <- ctrl + / 로 토글 <- 드래그하고 ctrl + / 하면 여러 줄 토글 가능\n",
        "# shift + enter 하면 실행하고 다음 셀로 넘어감\n",
        "# alt + enter 하면 실행하고 밑에다가 셀을 새로 만듬\n",
        "# est 하면 방향키 위아래로 셀 왔다갔다. 엔터 치면 다시 코드 작성. 이 모드에서 a 하면 위에 셀, b 하면 아래에 셀 만듦\n",
        "# ctrl + m, d 하면 셀 삭제 (ctrl + m, z는 셀 수준 실행 취소, ctrl + shift + y 셀 수준 다시 실행)\n",
        "# ctrl +z, ctrl + shift + z, crtl + c, ctrl + v"
      ],
      "metadata": {
        "colab": {
          "base_uri": "https://localhost:8080/"
        },
        "collapsed": true,
        "id": "D5UToAZxOPfg",
        "outputId": "6ceb7444-c341-49c6-d93b-898acb5e8572"
      },
      "execution_count": null,
      "outputs": [
        {
          "output_type": "stream",
          "name": "stdout",
          "text": [
            "Hello World\n"
          ]
        }
      ]
    },
    {
      "cell_type": "markdown",
      "source": [
        "# 큰 제목\n",
        "## 그 다음으로 큰\n",
        "###그그 다음으로 큰\n",
        " - 1\n",
        "  - 1-1\n",
        "    - 1-1-1\n",
        "    **굵은 텍스트**\\\n",
        "$y=x$\n",
        "***python\n",
        "```python\n",
        "print(\"Hello World\")\n",
        "\n",
        "[유튜브](https://youtu.be/IJRxpLg17oE)\n",
        "\n",
        "\n",
        "\n"
      ],
      "metadata": {
        "id": "HjJ-UKl9UVV9"
      }
    },
    {
      "cell_type": "markdown",
      "source": [
        "##파이썬은 계산기다!"
      ],
      "metadata": {
        "id": "c-s5rUe2XtEF"
      }
    },
    {
      "cell_type": "code",
      "source": [],
      "metadata": {
        "id": "J929jAztXkeG"
      },
      "execution_count": null,
      "outputs": []
    },
    {
      "cell_type": "code",
      "source": [],
      "metadata": {
        "id": "CuFDZF4WXkui"
      },
      "execution_count": null,
      "outputs": []
    },
    {
      "cell_type": "markdown",
      "source": [],
      "metadata": {
        "id": "kRHV5CvGXlJ4"
      }
    },
    {
      "cell_type": "markdown",
      "source": [],
      "metadata": {
        "id": "NybVjv5_XlUD"
      }
    },
    {
      "cell_type": "markdown",
      "source": [],
      "metadata": {
        "id": "Cqo0lMRBXlk-"
      }
    },
    {
      "cell_type": "code",
      "source": [],
      "metadata": {
        "id": "t_PLP3wqXl_7"
      },
      "execution_count": null,
      "outputs": []
    },
    {
      "cell_type": "markdown",
      "source": [],
      "metadata": {
        "id": "K02BSNlLXmS3"
      }
    },
    {
      "cell_type": "code",
      "source": [
        "print(\"Hello World\") #ctrl+enter 치면 현재 셀 실행, #하고 쓰면 주석 처리됨\n",
        "# <- ctrl + / 로 토글 <- 드래그하고 ctrl + / 하면 여러 줄 토글 가능\n",
        "# shift + enter 하면 실행하고 다음 셀로 넘어감\n",
        "# alt + enter 하면 실행하고 밑에다가 셀을 새로 만듬\n",
        "# est 하면 방향키 위아래로 셀 왔다갔다. 엔터 치면 다시 코드 작성. 이 모드에서 a 하면 위에 셀, b 하면 아래에 셀 만듦\n",
        "# ctrl + m, d 하면 셀 삭제 (ctrl + m, z는 셀 수준 실행 취소, ctrl + shift + y 셀 수준 다시 실행)\n",
        "# ctrl +z, ctrl + shift + z, crtl + c, ctrl + v"
      ],
      "metadata": {
        "id": "SCwNBl5qXmZw",
        "colab": {
          "base_uri": "https://localhost:8080/"
        },
        "outputId": "6c45e463-5d87-4b9d-ace8-1727ee0c63b1"
      },
      "execution_count": null,
      "outputs": [
        {
          "output_type": "stream",
          "name": "stdout",
          "text": [
            "Hello World\n"
          ]
        }
      ]
    },
    {
      "cell_type": "code",
      "source": [
        "print(\"Hello World\")"
      ],
      "metadata": {
        "colab": {
          "base_uri": "https://localhost:8080/"
        },
        "id": "omMjK37IoSVE",
        "outputId": "5598c5f5-cdd0-4088-9b16-562021f8b119"
      },
      "execution_count": null,
      "outputs": [
        {
          "output_type": "stream",
          "name": "stdout",
          "text": [
            "Hello World\n"
          ]
        }
      ]
    },
    {
      "cell_type": "code",
      "source": [],
      "metadata": {
        "id": "C23oxYEfoel2"
      },
      "execution_count": null,
      "outputs": []
    },
    {
      "cell_type": "markdown",
      "source": [
        "클래스\n",
        "파이썬 강의에서 가장 중요한 하나를 꼽는다면,\n",
        "딥러닝에서 주로 쓰이는"
      ],
      "metadata": {
        "id": "kcKi1qrOpTXm"
      }
    },
    {
      "cell_type": "code",
      "source": [
        "##로봇을 만든다고 해보자 .. 로봇의 속성-> 로봇의 키가 몇이고 몸무게가 몇이고, ...로봇의 기능...안녕이라고 말하면서 인사를 하는 기능이 있고...\n",
        "#클래스는 위 로봇처럼 좀 큰 변수를 만든다고 보면 됨... 첫번째 로봇은 이것이다...   (...클래스는 하나의 변수, 존재, 좀 큰 변수를 만든다...클래스는 어떠한 규칙,\n",
        "#(그 자체는 객체가 될 것이고...)\n",
        "#클래스란? a에 숫자 한 개도 넣고 리스트도 넣고 그것들을 가지고 뭔가 기능을 하는 함수를 만들어 넣고 그럴 순 없을까?\n",
        "#C언어의 스트럭쳐와 비슷하고 거기에 프라이빗 같은 것이 추가된 것이라고 보면 되고...\n",
        "class Robot:  #로봇 에 대한 설명 ... def와 비슷\n",
        "    def greeting(self): #기능 인사 넣어준다. #메서드(method): 클래스 내부의 함수, 첫번째 매개변수는 무조건 self (인스턴스 자기자신)\n",
        "     print(\"Hello\")\n",
        "\n",
        "\n",
        "bot1 = Robot() #Robot 이라는 클래스에 해당하는 instance 만들기(실체화). 나중에는 입력도 넣을거라 () 붙여야 함"
      ],
      "metadata": {
        "id": "R1JZwL7ZpCmw"
      },
      "execution_count": null,
      "outputs": []
    },
    {
      "cell_type": "code",
      "source": [],
      "metadata": {
        "id": "URldqTRBpCwN"
      },
      "execution_count": null,
      "outputs": []
    }
  ]
}